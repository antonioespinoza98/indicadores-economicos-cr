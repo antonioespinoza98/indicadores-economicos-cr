{
 "cells": [
  {
   "cell_type": "markdown",
   "id": "66833b16",
   "metadata": {},
   "source": [
    "# Librerias"
   ]
  },
  {
   "cell_type": "code",
   "execution_count": 77,
   "id": "d13d72e1",
   "metadata": {},
   "outputs": [],
   "source": [
    "import requests\n",
    "import os\n",
    "from dotenv import load_dotenv\n",
    "import pandas as pd\n",
    "import polars as pl"
   ]
  },
  {
   "cell_type": "code",
   "execution_count": null,
   "id": "c1729ca8",
   "metadata": {},
   "outputs": [],
   "source": [
    "# Cargamos el token que da el Banco Central de Costa Rica \n",
    "load_dotenv()\n",
    "token= os.getenv('TOKEN')"
   ]
  },
  {
   "cell_type": "markdown",
   "id": "ed0b6154",
   "metadata": {},
   "source": [
    "# Ingesta de indicadores económicos del Banco Central de Costa Rica"
   ]
  },
  {
   "cell_type": "markdown",
   "id": "1365799d",
   "metadata": {},
   "source": [
    "Con el siguiente código se extrae una tabla con el listado de indicadores disponibles"
   ]
  },
  {
   "cell_type": "code",
   "execution_count": null,
   "id": "d8130c97",
   "metadata": {},
   "outputs": [],
   "source": [
    "base_url=\"https://apim.bccr.fi.cr/\"\n",
    "endpoint=\"SDDE/api/Bccr.GE.SDDE.Publico.Indicadores.API/indicadoresEconomicos/descargar?idioma=ES\"  "
   ]
  },
  {
   "cell_type": "code",
   "execution_count": 31,
   "id": "f2b82919",
   "metadata": {},
   "outputs": [],
   "source": [
    "headers={\n",
    "    \"authorization\": f\"Bearer {token}\",\n",
    "    \"Content-Type\": \"application/json\", \n",
    "    \"User-Agent\": \"Mozilla/5.0 (Windows NT 10.0; Win64; x64) AppleWebKit/537.36 (KHTML, like Gecko) Chrome/91.0.4472.124 Safari/537.36\" \n",
    "}"
   ]
  },
  {
   "cell_type": "code",
   "execution_count": 32,
   "id": "d2e25ee1",
   "metadata": {},
   "outputs": [],
   "source": [
    "response= requests.get(base_url + endpoint, headers=headers)"
   ]
  },
  {
   "cell_type": "code",
   "execution_count": 36,
   "id": "3c6bc65a",
   "metadata": {},
   "outputs": [],
   "source": [
    "with open(\"report.xlsx\", \"wb\") as f:\n",
    "    f.write(response.content)"
   ]
  },
  {
   "cell_type": "markdown",
   "id": "d5646959",
   "metadata": {},
   "source": [
    "## Extracción de indicadores\n",
    "\n",
    "Con el siguiente código vamos a realizar la extracción de uno de los indicadores mencionados en Guía Técnica. El indicador es: *Sector Monetario y Financiero > Panorama del Banco Central*"
   ]
  },
  {
   "cell_type": "code",
   "execution_count": 64,
   "id": "8f8d88f7",
   "metadata": {},
   "outputs": [],
   "source": [
    "endpoint=\"SDDE/api/Bccr.GE.SDDE.Publico.Indicadores.API/indicadoresEconomicos/20197/series?fechaInicio=2025%2F01%2F01&fechaFin=2025%2F12%2F31&idioma=es\""
   ]
  },
  {
   "cell_type": "code",
   "execution_count": 66,
   "id": "15dab059",
   "metadata": {},
   "outputs": [],
   "source": [
    "response= requests.get(base_url + endpoint, headers=headers)"
   ]
  },
  {
   "cell_type": "code",
   "execution_count": 72,
   "id": "cc013829",
   "metadata": {},
   "outputs": [
    {
     "data": {
      "text/plain": [
       "[{'fecha': '2025-01-31', 'valorDatoPorPeriodo': -270237.43618101},\n",
       " {'fecha': '2025-02-28', 'valorDatoPorPeriodo': -129674.18938808},\n",
       " {'fecha': '2025-03-31', 'valorDatoPorPeriodo': -385412.12385068}]"
      ]
     },
     "execution_count": 72,
     "metadata": {},
     "output_type": "execute_result"
    }
   ],
   "source": [
    "data=response.json()\n",
    "data=data[\"datos\"][0][\"series\"]\n",
    "data"
   ]
  },
  {
   "cell_type": "code",
   "execution_count": 78,
   "id": "3aa996bd",
   "metadata": {},
   "outputs": [
    {
     "data": {
      "text/html": [
       "<div><style>\n",
       ".dataframe > thead > tr,\n",
       ".dataframe > tbody > tr {\n",
       "  text-align: right;\n",
       "  white-space: pre-wrap;\n",
       "}\n",
       "</style>\n",
       "<small>shape: (3, 2)</small><table border=\"1\" class=\"dataframe\"><thead><tr><th>fecha</th><th>valorDatoPorPeriodo</th></tr><tr><td>str</td><td>f64</td></tr></thead><tbody><tr><td>&quot;2025-01-31&quot;</td><td>-270237.436181</td></tr><tr><td>&quot;2025-02-28&quot;</td><td>-129674.189388</td></tr><tr><td>&quot;2025-03-31&quot;</td><td>-385412.123851</td></tr></tbody></table></div>"
      ],
      "text/plain": [
       "shape: (3, 2)\n",
       "┌────────────┬─────────────────────┐\n",
       "│ fecha      ┆ valorDatoPorPeriodo │\n",
       "│ ---        ┆ ---                 │\n",
       "│ str        ┆ f64                 │\n",
       "╞════════════╪═════════════════════╡\n",
       "│ 2025-01-31 ┆ -270237.436181      │\n",
       "│ 2025-02-28 ┆ -129674.189388      │\n",
       "│ 2025-03-31 ┆ -385412.123851      │\n",
       "└────────────┴─────────────────────┘"
      ]
     },
     "execution_count": 78,
     "metadata": {},
     "output_type": "execute_result"
    }
   ],
   "source": [
    "dataframe=pl.DataFrame(data)\n",
    "dataframe"
   ]
  },
  {
   "cell_type": "markdown",
   "id": "80b542ef",
   "metadata": {},
   "source": [
    "# Ingesta de datos del INEC"
   ]
  }
 ],
 "metadata": {
  "kernelspec": {
   "display_name": "indenv",
   "language": "python",
   "name": "python3"
  },
  "language_info": {
   "codemirror_mode": {
    "name": "ipython",
    "version": 3
   },
   "file_extension": ".py",
   "mimetype": "text/x-python",
   "name": "python",
   "nbconvert_exporter": "python",
   "pygments_lexer": "ipython3",
   "version": "3.10.18"
  }
 },
 "nbformat": 4,
 "nbformat_minor": 5
}
